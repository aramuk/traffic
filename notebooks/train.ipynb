{
 "cells": [
  {
   "cell_type": "code",
   "execution_count": 1,
   "metadata": {},
   "outputs": [],
   "source": [
    "import matplotlib.pyplot as plt\n",
    "import torch\n",
    "import torch.nn as nn\n",
    "import torch.nn.functional as F\n",
    "from tqdm.notebook import tqdm\n",
    "\n",
    "import _fix_paths\n",
    "from lib.data import PEMSBay\n",
    "from lib.models import STGCN_VAE"
   ]
  },
  {
   "cell_type": "code",
   "execution_count": 2,
   "metadata": {},
   "outputs": [],
   "source": [
    "HIST_WINDOW = 12\n",
    "PRED_WINDOW = 12\n",
    "LEARNING_RATE = 0.001\n",
    "WEIGHT_DECAY = 5e-4\n",
    "NUM_EPOCHS = 50\n",
    "BATCH_SIZE = 8\n",
    "TEMPORAL_KERNEL = 3\n",
    "SPATIAL_KERNEL = 3\n",
    "RANDOM_SEED = 17"
   ]
  },
  {
   "cell_type": "code",
   "execution_count": 3,
   "metadata": {},
   "outputs": [],
   "source": [
    "torch.manual_seed(RANDOM_SEED)\n",
    "torch.cuda.manual_seed(RANDOM_SEED)"
   ]
  },
  {
   "cell_type": "code",
   "execution_count": 4,
   "metadata": {},
   "outputs": [],
   "source": [
    "experiment_name = input().replace(' ', '_')"
   ]
  },
  {
   "cell_type": "code",
   "execution_count": 5,
   "metadata": {},
   "outputs": [
    {
     "name": "stderr",
     "output_type": "stream",
     "text": [
      "/Library/Frameworks/Python.framework/Versions/3.9/lib/python3.9/site-packages/pandas/io/pytables.py:3007: FutureWarning: In a future version, the Index constructor will not infer numeric dtypes when passed object-dtype sequences (matching Series behavior)\n",
      "  index = factory(\n"
     ]
    }
   ],
   "source": [
    "train_set = PEMSBay('../datasets/PEMS-BAY', 'train', HIST_WINDOW, PRED_WINDOW)"
   ]
  },
  {
   "cell_type": "code",
   "execution_count": 6,
   "metadata": {},
   "outputs": [],
   "source": [
    "model = STGCN_VAE(\n",
    "    SPATIAL_KERNEL, TEMPORAL_KERNEL, HIST_WINDOW, PRED_WINDOW, [(HIST_WINDOW + PRED_WINDOW, 16, 64), (64, 32, 128)],\n",
    "    [1, 16, 32]\n",
    ")\n"
   ]
  },
  {
   "cell_type": "code",
   "execution_count": 7,
   "metadata": {},
   "outputs": [
    {
     "name": "stdout",
     "output_type": "stream",
     "text": [
      "STGCN_VAE(\n",
      "  (encoder): ModuleList(\n",
      "    (0): SpatioTemporalConv(\n",
      "      (temporal_conv1): TemporalConv(\n",
      "        (align): Align(\n",
      "          (conv): Conv2d(24, 16, kernel_size=(1, 1), stride=(1, 1), padding=valid)\n",
      "        )\n",
      "        (gconv): ChebConv(24, 16, K=3, normalization=sym)\n",
      "      )\n",
      "      (spatial_conv): SpatialConv(\n",
      "        (align): Align(\n",
      "          (conv): Conv2d(16, 16, kernel_size=(1, 1), stride=(1, 1), padding=valid)\n",
      "        )\n",
      "        (gconv): ChebConv(16, 16, K=3, normalization=sym)\n",
      "      )\n",
      "      (temporal_conv2): TemporalConv(\n",
      "        (align): Align(\n",
      "          (conv): Conv2d(16, 64, kernel_size=(1, 1), stride=(1, 1), padding=valid)\n",
      "        )\n",
      "        (gconv): ChebConv(16, 64, K=3, normalization=sym)\n",
      "      )\n",
      "      (norm): LayerNorm((64,), eps=1e-05, elementwise_affine=True)\n",
      "      (dropout): Dropout(p=0.1, inplace=False)\n",
      "    )\n",
      "    (1): SpatioTemporalConv(\n",
      "      (temporal_conv1): TemporalConv(\n",
      "        (align): Align(\n",
      "          (conv): Conv2d(64, 32, kernel_size=(1, 1), stride=(1, 1), padding=valid)\n",
      "        )\n",
      "        (gconv): ChebConv(64, 32, K=3, normalization=sym)\n",
      "      )\n",
      "      (spatial_conv): SpatialConv(\n",
      "        (align): Align(\n",
      "          (conv): Conv2d(32, 32, kernel_size=(1, 1), stride=(1, 1), padding=valid)\n",
      "        )\n",
      "        (gconv): ChebConv(32, 32, K=3, normalization=sym)\n",
      "      )\n",
      "      (temporal_conv2): TemporalConv(\n",
      "        (align): Align(\n",
      "          (conv): Conv2d(32, 128, kernel_size=(1, 1), stride=(1, 1), padding=valid)\n",
      "        )\n",
      "        (gconv): ChebConv(32, 128, K=3, normalization=sym)\n",
      "      )\n",
      "      (norm): LayerNorm((128,), eps=1e-05, elementwise_affine=True)\n",
      "      (dropout): Dropout(p=0.1, inplace=False)\n",
      "    )\n",
      "  )\n",
      "  (gconv_mu): GCNConv(128, 1)\n",
      "  (gconv_var): GCNConv(128, 1)\n",
      "  (decoder): ModuleList(\n",
      "    (0): ResidualGConv(\n",
      "      (gconv): GCNConv(13, 16)\n",
      "      (align): Align(\n",
      "        (conv): Conv2d(13, 16, kernel_size=(1, 1), stride=(1, 1), padding=valid)\n",
      "      )\n",
      "    )\n",
      "    (1): ResidualGConv(\n",
      "      (gconv): GCNConv(16, 32)\n",
      "      (align): Align(\n",
      "        (conv): Conv2d(16, 32, kernel_size=(1, 1), stride=(1, 1), padding=valid)\n",
      "      )\n",
      "    )\n",
      "    (2): ResidualGConv(\n",
      "      (gconv): GCNConv(32, 12)\n",
      "      (align): Align(\n",
      "        (conv): Conv2d(32, 12, kernel_size=(1, 1), stride=(1, 1), padding=valid)\n",
      "      )\n",
      "    )\n",
      "  )\n",
      ")\n"
     ]
    }
   ],
   "source": [
    "print(model)"
   ]
  },
  {
   "cell_type": "code",
   "execution_count": 8,
   "metadata": {},
   "outputs": [
    {
     "name": "stdout",
     "output_type": "stream",
     "text": [
      "Using device: cpu\n"
     ]
    }
   ],
   "source": [
    "device = torch.device('cuda' if torch.cuda.is_available() else 'cpu')\n",
    "print(f\"Using device: {device}\")\n",
    "model = model.to(device)"
   ]
  },
  {
   "cell_type": "code",
   "execution_count": 9,
   "metadata": {},
   "outputs": [],
   "source": [
    "train_loader = torch.utils.data.DataLoader(train_set, batch_size=BATCH_SIZE, shuffle=True, drop_last=True)"
   ]
  },
  {
   "cell_type": "code",
   "execution_count": 10,
   "metadata": {},
   "outputs": [],
   "source": [
    "X, y = next(iter(train_loader))\n",
    "X = X.to(device)\n",
    "y = y.to(device)\n",
    "edge_idx = train_set.edge_idx.to(device)\n",
    "edge_wt = train_set.edge_wt.to(device)"
   ]
  },
  {
   "cell_type": "code",
   "execution_count": 11,
   "metadata": {},
   "outputs": [],
   "source": [
    "optimizer = torch.optim.Adam(model.parameters(), lr=LEARNING_RATE, weight_decay=WEIGHT_DECAY)\n",
    "loss_mse = nn.MSELoss()"
   ]
  },
  {
   "cell_type": "code",
   "execution_count": 12,
   "metadata": {},
   "outputs": [
    {
     "data": {
      "text/plain": [
       "(torch.Size([8, 1, 325, 12]), torch.Size([8, 1, 325, 12]))"
      ]
     },
     "execution_count": 12,
     "metadata": {},
     "output_type": "execute_result"
    }
   ],
   "source": [
    "X.shape, y.shape"
   ]
  },
  {
   "cell_type": "code",
   "execution_count": 13,
   "metadata": {},
   "outputs": [],
   "source": [
    "train_data = {\n",
    "    'data_loader': train_loader,\n",
    "    'edge_idx': edge_idx,\n",
    "    'edge_wt': edge_wt\n",
    "}"
   ]
  },
  {
   "cell_type": "code",
   "execution_count": 14,
   "metadata": {},
   "outputs": [],
   "source": [
    "def train(model, n_epochs, optimizer, loss_fn, data):\n",
    "    data_loader = data.get('data_loader', None)\n",
    "    edge_idx = data.get('edge_idx', None)\n",
    "    edge_wt = data.get('edge_wt', None)\n",
    "    # writer = SummaryWriter(\"../logs\")\n",
    "\n",
    "    model.train()\n",
    "    losses = []\n",
    "    for epoch in tqdm(range(1, n_epochs + 1)):\n",
    "        epoch_loss = 0.0\n",
    "        for batch_num, (x, y) in enumerate(data_loader, start=1):\n",
    "            x, y = x.to(device), y.to(device)\n",
    "            optimizer.zero_grad()\n",
    "            y_hat = model(x, y, edge_idx, edge_wt, sample=True)\n",
    "            loss = loss_fn(y, y_hat)\n",
    "            loss.backward()\n",
    "            optimizer.step()\n",
    "\n",
    "            # writer.add_scalar(\"Loss/train\", loss.item(), (epoch - 1) * len(data_loader) + batch_num)\n",
    "            epoch_loss = (epoch_loss * (batch_num - 1) + loss.item()) / batch_num\n",
    "        print(f\"[Epoch {epoch}/{n_epochs}]: loss = {epoch_loss:.4f}\")\n",
    "        losses.append(epoch_loss)\n",
    "        torch.save(model.state_dict(), f\"../weights/{experiment_name}.pt\")\n",
    "    return losses"
   ]
  },
  {
   "cell_type": "code",
   "execution_count": null,
   "metadata": {},
   "outputs": [],
   "source": [
    "losses = train(model, NUM_EPOCHS, optimizer, loss_mse, train_data)"
   ]
  },
  {
   "cell_type": "code",
   "execution_count": null,
   "metadata": {},
   "outputs": [],
   "source": [
    "fig = plt.figure()\n",
    "plt.plot(losses, 'r-')\n",
    "plt.xlabel(\"Epoch\")\n",
    "plt.ylabel(\"MSE Loss\")\n",
    "plt.title(\"Training Loss\")\n",
    "plt.savefig(f\"../figures/loss_{experiment_name}.png\")\n",
    "plt.show()"
   ]
  },
  {
   "cell_type": "code",
   "execution_count": 15,
   "metadata": {},
   "outputs": [
    {
     "data": {
      "text/plain": [
       "<All keys matched successfully>"
      ]
     },
     "execution_count": 15,
     "metadata": {},
     "output_type": "execute_result"
    }
   ],
   "source": [
    "model.load_state_dict(torch.load(f\"../weights/{experiment_name}.pt\"))"
   ]
  },
  {
   "cell_type": "code",
   "execution_count": 16,
   "metadata": {},
   "outputs": [
    {
     "name": "stderr",
     "output_type": "stream",
     "text": [
      "/Library/Frameworks/Python.framework/Versions/3.9/lib/python3.9/site-packages/pandas/io/pytables.py:3007: FutureWarning: In a future version, the Index constructor will not infer numeric dtypes when passed object-dtype sequences (matching Series behavior)\n",
      "  index = factory(\n"
     ]
    }
   ],
   "source": [
    "val_set = PEMSBay('../datasets/PEMS-BAY', 'val', HIST_WINDOW, PRED_WINDOW)"
   ]
  },
  {
   "cell_type": "code",
   "execution_count": 17,
   "metadata": {},
   "outputs": [],
   "source": [
    "val_loader = torch.utils.data.DataLoader(val_set, batch_size=1, shuffle=False, drop_last=True)"
   ]
  },
  {
   "cell_type": "code",
   "execution_count": 18,
   "metadata": {},
   "outputs": [],
   "source": [
    "val_data = {\n",
    "    'data_loader': val_loader,\n",
    "    'edge_idx': val_set.edge_idx.to(device),\n",
    "    'edge_wt': val_set.edge_wt.to(device),\n",
    "}"
   ]
  },
  {
   "cell_type": "code",
   "execution_count": 19,
   "metadata": {},
   "outputs": [],
   "source": [
    "def eval(model, data):\n",
    "    data_loader = data.get('data_loader', None)\n",
    "    edge_idx = data.get('edge_idx', None)\n",
    "    edge_wt = data.get('edge_wt', None)\n",
    "    model.eval()\n",
    "    mae, rmse, = torch.tensor([0.0]), torch.tensor([0.0])\n",
    "    with torch.no_grad():\n",
    "        for x, y in data_loader:\n",
    "            x, y = x.to(device), y.to(device)\n",
    "            y_hat = model.decode(\n",
    "                torch.randn(1, 1, val_set.num_vertices, 1), None, x, edge_idx, edge_wt\n",
    "            )\n",
    "            mae += (y_hat - y).abs().mean()\n",
    "            rmse += (y_hat - y).pow(2).mean()\n",
    "        mae /= len(data_loader)\n",
    "        rmse = (rmse / len(data_loader)).sqrt()\n",
    "    return mae.item(), rmse.item()"
   ]
  },
  {
   "cell_type": "code",
   "execution_count": 20,
   "metadata": {},
   "outputs": [
    {
     "name": "stdout",
     "output_type": "stream",
     "text": [
      "MAE: 3.7063\n",
      "RMSE: 6.1540\n"
     ]
    }
   ],
   "source": [
    "mae, rmse = eval(model, val_data)\n",
    "print(f\"MAE: {mae:.4f}\")\n",
    "print(f\"RMSE: {rmse:.4f}\")"
   ]
  },
  {
   "cell_type": "code",
   "execution_count": 21,
   "metadata": {},
   "outputs": [
    {
     "name": "stderr",
     "output_type": "stream",
     "text": [
      "/Library/Frameworks/Python.framework/Versions/3.9/lib/python3.9/site-packages/pandas/io/pytables.py:3007: FutureWarning: In a future version, the Index constructor will not infer numeric dtypes when passed object-dtype sequences (matching Series behavior)\n",
      "  index = factory(\n"
     ]
    }
   ],
   "source": [
    "test_set = PEMSBay('../datasets/PEMS-BAY', 'test', HIST_WINDOW, PRED_WINDOW)"
   ]
  },
  {
   "cell_type": "code",
   "execution_count": 22,
   "metadata": {},
   "outputs": [],
   "source": [
    "test_loader = torch.utils.data.DataLoader(test_set, batch_size=1, shuffle=False, drop_last=True)"
   ]
  },
  {
   "cell_type": "code",
   "execution_count": 23,
   "metadata": {},
   "outputs": [],
   "source": [
    "test_data = {\n",
    "    'data_loader': test_loader,\n",
    "    'edge_idx': test_set.edge_idx.to(device),\n",
    "    'edge_wt': test_set.edge_wt.to(device),\n",
    "}"
   ]
  },
  {
   "cell_type": "code",
   "execution_count": 24,
   "metadata": {},
   "outputs": [
    {
     "name": "stdout",
     "output_type": "stream",
     "text": [
      "MAE: 3.5463\n",
      "RMSE: 5.5596\n"
     ]
    }
   ],
   "source": [
    "mae, rmse = eval(model, test_data)\n",
    "print(f\"MAE: {mae:.4f}\")\n",
    "print(f\"RMSE: {rmse:.4f}\")"
   ]
  },
  {
   "cell_type": "code",
   "execution_count": null,
   "metadata": {},
   "outputs": [],
   "source": []
  }
 ],
 "metadata": {
  "interpreter": {
   "hash": "7812ea015bdcee6f23a998adcdd2ef97c151c0c241b7b7070987d9313e41299d"
  },
  "kernelspec": {
   "display_name": "Python 3.9.1 64-bit",
   "language": "python",
   "name": "python3"
  },
  "language_info": {
   "codemirror_mode": {
    "name": "ipython",
    "version": 3
   },
   "file_extension": ".py",
   "mimetype": "text/x-python",
   "name": "python",
   "nbconvert_exporter": "python",
   "pygments_lexer": "ipython3",
   "version": "3.9.1"
  },
  "orig_nbformat": 4
 },
 "nbformat": 4,
 "nbformat_minor": 2
}
